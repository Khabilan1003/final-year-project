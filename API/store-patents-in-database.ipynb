{
 "cells": [
  {
   "cell_type": "code",
   "execution_count": 1,
   "metadata": {},
   "outputs": [],
   "source": [
    "import pandas as pd\n",
    "import numpy as np"
   ]
  },
  {
   "cell_type": "code",
   "execution_count": 2,
   "metadata": {},
   "outputs": [],
   "source": [
    "df = pd.read_csv(\"Patent Dataset.xlsx\")"
   ]
  },
  {
   "cell_type": "code",
   "execution_count": 3,
   "metadata": {},
   "outputs": [],
   "source": [
    "# aadharNumbers , title , abstract , abstract_bert_embeddings , patent_status=3,created_at , modified_at\n",
    "from pymongo import MongoClient\n",
    "\n",
    "cluster = MongoClient(\"localhost\", 27017)\n",
    "db = cluster[\"Patent\"]\n",
    "collection_patents = db[\"Patents\"]\n",
    "collection_transactions = db[\"Transactions\"]"
   ]
  },
  {
   "cell_type": "code",
   "execution_count": 8,
   "metadata": {},
   "outputs": [
    {
     "name": "stdout",
     "output_type": "stream",
     "text": [
      "Total Number of Patents in dataset : 3522\n"
     ]
    }
   ],
   "source": [
    "print(f\"Total Number of Patents in dataset : {len(df)}\")"
   ]
  },
  {
   "cell_type": "code",
   "execution_count": 142,
   "metadata": {},
   "outputs": [
    {
     "name": "stdout",
     "output_type": "stream",
     "text": [
      "300 Patents Uploaded\n",
      "400 Patents Uploaded\n",
      "500 Patents Uploaded\n",
      "600 Patents Uploaded\n",
      "700 Patents Uploaded\n",
      "800 Patents Uploaded\n",
      "900 Patents Uploaded\n"
     ]
    }
   ],
   "source": [
    "import datetime\n",
    "import pickle\n",
    "from sentence_transformers import SentenceTransformer\n",
    "\n",
    "# tokenizer = BertTokenizer.from_pretrained(\"./model/\")\n",
    "# model = BertModel.from_pretrained(\"./model/\")\n",
    "model = SentenceTransformer(\"./sentence_models/t5\")\n",
    "\n",
    "for index , patent in df.iterrows():\n",
    "    \n",
    "    if index < 231:\n",
    "        continue\n",
    "\n",
    "    if index >= 1000:\n",
    "        break\n",
    "\n",
    "    aadharNumbers = [\"123456781234\"]  \n",
    "    title = patent[\"patent_title\"]\n",
    "    abstract = patent['patent_abstract']\n",
    "\n",
    "    # Abstract Embeddings\n",
    "    words = abstract.split(\" \")\n",
    "    abstract = ' '.join(words)\n",
    "    \n",
    "    # target_input_ids = tokenizer.encode(abstract, add_special_tokens=True)\n",
    "    # target_input_ids = torch.tensor(target_input_ids).unsqueeze(0)\n",
    "\n",
    "    # # Get contextualized embeddings for the target description\n",
    "    # with torch.no_grad():\n",
    "    #     target_outputs = model(target_input_ids)\n",
    "    # target_embeddings = target_outputs.last_hidden_state.mean(dim=1)\n",
    "\n",
    "    target_embeddings = model.encode(abstract)\n",
    "    serialized_target_embeddings = pickle.dumps(target_embeddings)\n",
    "\n",
    "    collection_patents.insert_one({'title' : title , 'aadharNumbers' : aadharNumbers , 'abstract' : abstract , 'abstract_embeddings' : serialized_target_embeddings , 'patent_status' : 3 ,'created_at' : datetime.datetime.utcnow() , 'modified_at' : datetime.datetime.utcnow()})\n",
    "\n",
    "    if index%100 == 0:\n",
    "        print(f\"{index} Patents Uploaded\")"
   ]
  },
  {
   "cell_type": "code",
   "execution_count": 160,
   "metadata": {},
   "outputs": [],
   "source": [
    "embeddings = []\n",
    "\n",
    "for patent in collection_patents.find({}).limit(100):\n",
    "    embed = pickle.loads(patent[\"abstract_embeddings\"])\n",
    "    embeddings.append(embed)"
   ]
  },
  {
   "cell_type": "code",
   "execution_count": 161,
   "metadata": {},
   "outputs": [],
   "source": [
    "# Divide the embedding vector by its length to make it unit vector\n",
    "for i in range(len(embeddings)):\n",
    "    distance = np.sqrt((embeddings[i] * embeddings[i]).sum())\n",
    "    embeddings[i] = (embeddings[i] / distance)"
   ]
  },
  {
   "cell_type": "code",
   "execution_count": 162,
   "metadata": {},
   "outputs": [],
   "source": [
    "# Using dot product to find the difference between two embeddings. Alternative to Cosine Similarity\n",
    "score = np.zeros((len(embeddings) , len(embeddings)) , dtype=np.float64)\n",
    "\n",
    "for idx1 in range(len(embeddings)):\n",
    "    for idx2 in range(idx1+1 , len(embeddings)):\n",
    "        score[idx1 , idx2] = embeddings[idx1].dot(embeddings[idx2])"
   ]
  },
  {
   "cell_type": "code",
   "execution_count": 163,
   "metadata": {},
   "outputs": [
    {
     "data": {
      "image/png": "[encoded data removed]",
      "text/plain": [
       "<Figure size 640x480 with 1 Axes>"
      ]
     },
     "metadata": {},
     "output_type": "display_data"
    }
   ],
   "source": [
    "import matplotlib.pyplot as plt\n",
    "\n",
    "plt.imshow(score , cmap=\"gray\")\n",
    "plt.show()"
   ]
  },
  {
   "cell_type": "code",
   "execution_count": 176,
   "metadata": {},
   "outputs": [
    {
     "name": "stdout",
     "output_type": "stream",
     "text": [
      "Similar 3th patent count : 1\n",
      "Similar 5th patent count : 1\n",
      "Similar 8th patent count : 1\n",
      "Similar 11th patent count : 1\n",
      "Similar 21th patent count : 2\n",
      "Similar 22th patent count : 1\n",
      "Similar 36th patent count : 1\n",
      "Similar 44th patent count : 1\n",
      "Similar 55th patent count : 1\n",
      "Similar 73th patent count : 1\n",
      "Similar 75th patent count : 3\n",
      "Similar 76th patent count : 1\n",
      "Similar 96th patent count : 1\n"
     ]
    }
   ],
   "source": [
    "import matplotlib.pyplot as plt\n",
    "\n",
    "for i in range(len(score)):\n",
    "    count = 0\n",
    "    for j in range(len(score)):\n",
    "            \n",
    "        if i == j:\n",
    "            continue\n",
    "\n",
    "        if score[i , j] >= 0.95:\n",
    "            count += 1\n",
    "    \n",
    "    if count > 0:\n",
    "        print(f\"Similar {i}th patent count : {count}\")"
   ]
  },
  {
   "cell_type": "code",
   "execution_count": null,
   "metadata": {},
   "outputs": [],
   "source": []
  },
  {
   "cell_type": "code",
   "execution_count": null,
   "metadata": {},
   "outputs": [],
   "source": []
  },
  {
   "cell_type": "code",
   "execution_count": 180,
   "metadata": {},
   "outputs": [
    {
     "data": {
      "text/plain": [
       "'An image processing system, which operates on an input image data stream consisting of successive multi-level values, effecting a plurality of respectively different types of image data processing in accordance with a plurality of different categories of the input image data, utilizes a neural network to assign each datum to a specific category, with resultant output signals from the neural network being used to select the appropriate type of image data processing for that datum.'"
      ]
     },
     "execution_count": 180,
     "metadata": {},
     "output_type": "execute_result"
    }
   ],
   "source": [
    "df.iloc[1001].patent_abstract"
   ]
  },
  {
   "cell_type": "code",
   "execution_count": null,
   "metadata": {},
   "outputs": [],
   "source": []
  }
 ],
 "metadata": {
  "kernelspec": {
   "display_name": "base",
   "language": "python",
   "name": "python3"
  },
  "language_info": {
   "codemirror_mode": {
    "name": "ipython",
    "version": 3
   },
   "file_extension": ".py",
   "mimetype": "text/x-python",
   "name": "python",
   "nbconvert_exporter": "python",
   "pygments_lexer": "ipython3",
   "version": "3.8.10"
  }
 },
 "nbformat": 4,
 "nbformat_minor": 2
}
